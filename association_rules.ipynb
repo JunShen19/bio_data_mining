{
 "cells": [
  {
   "cell_type": "code",
   "execution_count": 1,
   "metadata": {},
   "outputs": [],
   "source": [
    "import pandas as pd\n",
    "import re\n",
    "from collections import defaultdict as de\n",
    "dataset = pd.read_csv(r'data\\dbamp_100_act_label.csv', index_col = 0)\n"
   ]
  },
  {
   "cell_type": "code",
   "execution_count": 2,
   "metadata": {},
   "outputs": [],
   "source": [
    "def dell(d,na):\n",
    "    for i in na:\n",
    "        del d[i]\n",
    "    return d"
   ]
  },
  {
   "cell_type": "code",
   "execution_count": 3,
   "metadata": {},
   "outputs": [],
   "source": [
    "def gsp_de(d,n):\n",
    "    name = []\n",
    "    for k, v in d.items():\n",
    "        if v<n:\n",
    "            name.append(k)\n",
    "    return dell(d, name)"
   ]
  },
  {
   "cell_type": "code",
   "execution_count": 4,
   "metadata": {},
   "outputs": [],
   "source": [
    "def gsp_cr(d):\n",
    "    name = []\n",
    "    for k, v in d.items():\n",
    "        name.append(k)\n",
    "    name_new = [i+j[-1] for i in name for j in name if i[1:]==j[:-1]]\n",
    "    return name_new"
   ]
  },
  {
   "cell_type": "code",
   "execution_count": 5,
   "metadata": {},
   "outputs": [],
   "source": [
    "def gsp_crdi(name, dataset):\n",
    "    r = de(int)\n",
    "    for i in name:\n",
    "        b=''\n",
    "        for j in range(len(i)-1):\n",
    "            b+=i[j]+'.*' \n",
    "        b+=i[-1]\n",
    "        for i in dataset['sequence'].values:\n",
    "            i_new = i\n",
    "            res = re.search(b, i_new)\n",
    "            if not(res==None):\n",
    "                r[b.replace('.*','')]+=1\n",
    "    return r"
   ]
  },
  {
   "cell_type": "code",
   "execution_count": 6,
   "metadata": {},
   "outputs": [],
   "source": [
    "def split(seq):\n",
    "    return [i for i in seq]"
   ]
  },
  {
   "cell_type": "code",
   "execution_count": null,
   "metadata": {},
   "outputs": [],
   "source": [
    "# 限制條件\n",
    "# 1. 分type\n",
    "    ## HIV, ~..."
   ]
  },
  {
   "cell_type": "code",
   "execution_count": 7,
   "metadata": {},
   "outputs": [],
   "source": [
    "df_antihiv = dataset.loc[dataset.AntiHIV==1,:]\n",
    "df_antibact = dataset.loc[dataset.Antibacterial==1,:]\n",
    "df_anticanc = dataset.loc[dataset.Anticancer==1,:]\n",
    "df_antifung = dataset.loc[dataset.Antifungal==1,:]\n",
    "df_antimico = dataset.loc[dataset.Antimicrobial==1,:]\n",
    "df_antiviral = dataset.loc[dataset.Antiviral==1,:]"
   ]
  },
  {
   "cell_type": "code",
   "execution_count": 8,
   "metadata": {},
   "outputs": [
    {
     "name": "stdout",
     "output_type": "stream",
     "text": [
      "(699, 9)\n",
      "(3286, 9)\n",
      "(1431, 9)\n",
      "(3383, 9)\n",
      "(3691, 9)\n",
      "(1082, 9)\n"
     ]
    }
   ],
   "source": [
    "print(df_antihiv.shape)\n",
    "print(df_antibact.shape)\n",
    "print(df_anticanc.shape)\n",
    "print(df_antifung.shape)\n",
    "print(df_antimico.shape)\n",
    "print(df_antiviral.shape)"
   ]
  },
  {
   "cell_type": "code",
   "execution_count": 10,
   "metadata": {},
   "outputs": [],
   "source": [
    "df = df_antihiv"
   ]
  },
  {
   "cell_type": "code",
   "execution_count": 74,
   "metadata": {},
   "outputs": [],
   "source": [
    "import matplotlib.pyplot as plt\n",
    "\n",
    "def barh_graph(di, nuu):\n",
    "    if len(di.keys()) > 25:\n",
    "        data_col = list(di.keys())[-25:]\n",
    "        data = list(di.values())[-25:]\n",
    "    else:\n",
    "        data_col = list(di.keys())\n",
    "        data = list(di.values())\n",
    "    plt.barh(data_col, data)\n",
    "    plt.xlabel(\"Values\")\n",
    "    plt.ylabel(\"Frequency\")\n",
    "    plt.title(\"L\" + str(nuu)+' pattern')\n",
    "    plt.show()"
   ]
  },
  {
   "cell_type": "code",
   "execution_count": 35,
   "metadata": {},
   "outputs": [],
   "source": [
    "def sort_dict(di):\n",
    "    return {k: v for k, v in sorted(di.items(), key=lambda item: item[1])}"
   ]
  },
  {
   "cell_type": "code",
   "execution_count": 76,
   "metadata": {},
   "outputs": [
    {
     "name": "stdout",
     "output_type": "stream",
     "text": [
      "L1:\n",
      "defaultdict(<class 'int'>, {'P': 377, 'E': 514, 'L': 607, 'C': 241, 'Q': 346, 'T': 431, 'S': 472, 'N': 389, 'G': 438, 'A': 492, 'R': 370, 'I': 529, 'V': 463, 'H': 215, 'M': 169, 'K': 509, 'W': 380, 'F': 332, 'D': 336, 'Y': 304})\n"
     ]
    },
    {
     "data": {
      "image/png": "[encoded data removed]",
      "text/plain": [
       "<Figure size 432x288 with 1 Axes>"
      ]
     },
     "metadata": {
      "needs_background": "light"
     },
     "output_type": "display_data"
    },
    {
     "name": "stdout",
     "output_type": "stream",
     "text": [
      "L2:\n"
     ]
    },
    {
     "data": {
      "image/png": "[encoded data removed]",
      "text/plain": [
       "<Figure size 432x288 with 1 Axes>"
      ]
     },
     "metadata": {
      "needs_background": "light"
     },
     "output_type": "display_data"
    },
    {
     "name": "stdout",
     "output_type": "stream",
     "text": [
      "L3:\n"
     ]
    },
    {
     "data": {
      "image/png": "[encoded data removed]",
      "text/plain": [
       "<Figure size 432x288 with 1 Axes>"
      ]
     },
     "metadata": {
      "needs_background": "light"
     },
     "output_type": "display_data"
    },
    {
     "name": "stdout",
     "output_type": "stream",
     "text": [
      "L4:\n"
     ]
    },
    {
     "data": {
      "image/png": "[encoded data removed]",
      "text/plain": [
       "<Figure size 432x288 with 1 Axes>"
      ]
     },
     "metadata": {
      "needs_background": "light"
     },
     "output_type": "display_data"
    },
    {
     "name": "stdout",
     "output_type": "stream",
     "text": [
      "L5:\n"
     ]
    },
    {
     "data": {
      "image/png": "[encoded data removed]",
      "text/plain": [
       "<Figure size 432x288 with 1 Axes>"
      ]
     },
     "metadata": {
      "needs_background": "light"
     },
     "output_type": "display_data"
    },
    {
     "name": "stdout",
     "output_type": "stream",
     "text": [
      "L6:\n"
     ]
    },
    {
     "data": {
      "image/png": "[encoded data removed]",
      "text/plain": [
       "<Figure size 432x288 with 1 Axes>"
      ]
     },
     "metadata": {
      "needs_background": "light"
     },
     "output_type": "display_data"
    }
   ],
   "source": [
    "min_sup = 100\n",
    "r_1=[]\n",
    "r_1_di = de(int)\n",
    "for i in df['sequence'].values:\n",
    "    for j in set(split(i)):\n",
    "        r_1_di[j[0]]+=1\n",
    "di = gsp_de(r_1_di, min_sup) # min_sup = 2\n",
    "print('L1:')\n",
    "print(di)\n",
    "nuu=1\n",
    "barh_graph(di, nuu)\n",
    "name = []\n",
    "for k, v in di.items():\n",
    "    name.append(k)\n",
    "name_new = [i+j for i in name for j in name]\n",
    "r_di = gsp_crdi(name_new,df)\n",
    "di_3 = gsp_de(r_di,min_sup)\n",
    "while(len(di_3) != 0):\n",
    "    print('L'+str(nuu+1)+':')\n",
    "    # print(di_3)\n",
    "    di_3 = sort_dict(di_3)\n",
    "    barh_graph(di_3, nuu+1)\n",
    "    name_n = gsp_cr(di_3)\n",
    "    r_di = gsp_crdi(name_n,df)\n",
    "    di_3 = gsp_de(r_di,min_sup)\n",
    "    nuu+=1\n"
   ]
  },
  {
   "cell_type": "code",
   "execution_count": null,
   "metadata": {},
   "outputs": [],
   "source": []
  }
 ],
 "metadata": {
  "interpreter": {
   "hash": "d4f707c00223e7f54c82c317c83b04a38950de9454fa5dc9e9f724e602025ebe"
  },
  "kernelspec": {
   "display_name": "Python 3.10.4 ('data_mining')",
   "language": "python",
   "name": "python3"
  },
  "language_info": {
   "codemirror_mode": {
    "name": "ipython",
    "version": 3
   },
   "file_extension": ".py",
   "mimetype": "text/x-python",
   "name": "python",
   "nbconvert_exporter": "python",
   "pygments_lexer": "ipython3",
   "version": "3.10.4"
  },
  "varInspector": {
   "cols": {
    "lenName": 16,
    "lenType": 16,
    "lenVar": 40
   },
   "kernels_config": {
    "python": {
     "delete_cmd_postfix": "",
     "delete_cmd_prefix": "del ",
     "library": "var_list.py",
     "varRefreshCmd": "print(var_dic_list())"
    },
    "r": {
     "delete_cmd_postfix": ") ",
     "delete_cmd_prefix": "rm(",
     "library": "var_list.r",
     "varRefreshCmd": "cat(var_dic_list()) "
    }
   },
   "types_to_exclude": [
    "module",
    "function",
    "builtin_function_or_method",
    "instance",
    "_Feature"
   ],
   "window_display": false
  }
 },
 "nbformat": 4,
 "nbformat_minor": 2
}
